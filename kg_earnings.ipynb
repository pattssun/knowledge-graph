{
 "cells": [
  {
   "cell_type": "markdown",
   "metadata": {},
   "source": [
    "# Bridging the Gaps in LLM Interpretability of Unstructured Financial Earnings Data with Knowledge Graphs\n",
    "- Use case: answer questions about companies' financial performance based on the transcripts of their earnings calls.\n",
    "- Uses StrictJSON to parse the Knowledge Graph: https://github.com/tanchongmin/strictjson"
   ]
  },
  {
   "cell_type": "markdown",
   "metadata": {},
   "source": [
    "## Import packages"
   ]
  },
  {
   "cell_type": "code",
   "execution_count": 47,
   "metadata": {},
   "outputs": [
    {
     "name": "stdout",
     "output_type": "stream",
     "text": [
      "Requirement already satisfied: strictjson in /Users/pattssun/opt/anaconda3/envs/zettel-env/lib/python3.12/site-packages (4.0.0)\n",
      "Requirement already satisfied: pandas in /Users/pattssun/opt/anaconda3/envs/zettel-env/lib/python3.12/site-packages (2.2.2)\n",
      "Requirement already satisfied: openai==1.3.6 in /Users/pattssun/opt/anaconda3/envs/zettel-env/lib/python3.12/site-packages (from strictjson) (1.3.6)\n",
      "Requirement already satisfied: anyio<4,>=3.5.0 in /Users/pattssun/opt/anaconda3/envs/zettel-env/lib/python3.12/site-packages (from openai==1.3.6->strictjson) (3.7.1)\n",
      "Requirement already satisfied: distro<2,>=1.7.0 in /Users/pattssun/opt/anaconda3/envs/zettel-env/lib/python3.12/site-packages (from openai==1.3.6->strictjson) (1.9.0)\n",
      "Requirement already satisfied: httpx<1,>=0.23.0 in /Users/pattssun/opt/anaconda3/envs/zettel-env/lib/python3.12/site-packages (from openai==1.3.6->strictjson) (0.25.2)\n",
      "Requirement already satisfied: pydantic<3,>=1.9.0 in /Users/pattssun/opt/anaconda3/envs/zettel-env/lib/python3.12/site-packages (from openai==1.3.6->strictjson) (2.7.0)\n",
      "Requirement already satisfied: sniffio in /Users/pattssun/opt/anaconda3/envs/zettel-env/lib/python3.12/site-packages (from openai==1.3.6->strictjson) (1.3.1)\n",
      "Requirement already satisfied: tqdm>4 in /Users/pattssun/opt/anaconda3/envs/zettel-env/lib/python3.12/site-packages (from openai==1.3.6->strictjson) (4.66.2)\n",
      "Requirement already satisfied: typing-extensions<5,>=4.5 in /Users/pattssun/opt/anaconda3/envs/zettel-env/lib/python3.12/site-packages (from openai==1.3.6->strictjson) (4.11.0)\n",
      "Requirement already satisfied: numpy>=1.26.0 in /Users/pattssun/opt/anaconda3/envs/zettel-env/lib/python3.12/site-packages (from pandas) (1.26.4)\n",
      "Requirement already satisfied: python-dateutil>=2.8.2 in /Users/pattssun/opt/anaconda3/envs/zettel-env/lib/python3.12/site-packages (from pandas) (2.9.0)\n",
      "Requirement already satisfied: pytz>=2020.1 in /Users/pattssun/opt/anaconda3/envs/zettel-env/lib/python3.12/site-packages (from pandas) (2024.1)\n",
      "Requirement already satisfied: tzdata>=2022.7 in /Users/pattssun/opt/anaconda3/envs/zettel-env/lib/python3.12/site-packages (from pandas) (2024.1)\n",
      "Requirement already satisfied: six>=1.5 in /Users/pattssun/opt/anaconda3/envs/zettel-env/lib/python3.12/site-packages (from python-dateutil>=2.8.2->pandas) (1.16.0)\n",
      "Requirement already satisfied: idna>=2.8 in /Users/pattssun/opt/anaconda3/envs/zettel-env/lib/python3.12/site-packages (from anyio<4,>=3.5.0->openai==1.3.6->strictjson) (3.7)\n",
      "Requirement already satisfied: certifi in /Users/pattssun/opt/anaconda3/envs/zettel-env/lib/python3.12/site-packages (from httpx<1,>=0.23.0->openai==1.3.6->strictjson) (2024.2.2)\n",
      "Requirement already satisfied: httpcore==1.* in /Users/pattssun/opt/anaconda3/envs/zettel-env/lib/python3.12/site-packages (from httpx<1,>=0.23.0->openai==1.3.6->strictjson) (1.0.5)\n",
      "Requirement already satisfied: h11<0.15,>=0.13 in /Users/pattssun/opt/anaconda3/envs/zettel-env/lib/python3.12/site-packages (from httpcore==1.*->httpx<1,>=0.23.0->openai==1.3.6->strictjson) (0.14.0)\n",
      "Requirement already satisfied: annotated-types>=0.4.0 in /Users/pattssun/opt/anaconda3/envs/zettel-env/lib/python3.12/site-packages (from pydantic<3,>=1.9.0->openai==1.3.6->strictjson) (0.6.0)\n",
      "Requirement already satisfied: pydantic-core==2.18.1 in /Users/pattssun/opt/anaconda3/envs/zettel-env/lib/python3.12/site-packages (from pydantic<3,>=1.9.0->openai==1.3.6->strictjson) (2.18.1)\n"
     ]
    }
   ],
   "source": [
    "!pip install strictjson pandas"
   ]
  },
  {
   "cell_type": "code",
   "execution_count": 48,
   "metadata": {},
   "outputs": [],
   "source": [
    "from strictjson import *\n",
    "import os\n",
    "import openai\n",
    "from openai import OpenAI\n",
    "import networkx as nx\n",
    "import matplotlib.pyplot as plt\n",
    "from dotenv import load_dotenv\n",
    "import json\n",
    "import pandas as pd\n",
    "import numpy as np"
   ]
  },
  {
   "cell_type": "code",
   "execution_count": 49,
   "metadata": {},
   "outputs": [],
   "source": [
    "load_dotenv()\n",
    "api_key = os.getenv(\"OPENAI_API_KEY\")\n",
    "os.environ[\"OPENAI_API_KEY\"] = api_key"
   ]
  },
  {
   "cell_type": "markdown",
   "metadata": {},
   "source": [
    "## Load dataset"
   ]
  },
  {
   "cell_type": "code",
   "execution_count": 50,
   "metadata": {},
   "outputs": [],
   "source": [
    "# Function to parse JSONL file\n",
    "def parse_jsonl(file_path):\n",
    "    data = []\n",
    "    with open(file_path, 'r') as file:\n",
    "        for line in file:\n",
    "            data.append(json.loads(line))\n",
    "    return data\n",
    "\n",
    "file_path = 'data/earnings-transcripts.jsonl'\n",
    "earnings_data = parse_jsonl(file_path)\n"
   ]
  },
  {
   "cell_type": "code",
   "execution_count": 51,
   "metadata": {},
   "outputs": [],
   "source": [
    "df = pd.DataFrame(earnings_data)"
   ]
  },
  {
   "cell_type": "code",
   "execution_count": 52,
   "metadata": {},
   "outputs": [
    {
     "data": {
      "text/html": [
       "<div>\n",
       "<style scoped>\n",
       "    .dataframe tbody tr th:only-of-type {\n",
       "        vertical-align: middle;\n",
       "    }\n",
       "\n",
       "    .dataframe tbody tr th {\n",
       "        vertical-align: top;\n",
       "    }\n",
       "\n",
       "    .dataframe thead th {\n",
       "        text-align: right;\n",
       "    }\n",
       "</style>\n",
       "<table border=\"1\" class=\"dataframe\">\n",
       "  <thead>\n",
       "    <tr style=\"text-align: right;\">\n",
       "      <th></th>\n",
       "      <th>date</th>\n",
       "      <th>exchange</th>\n",
       "      <th>q</th>\n",
       "      <th>ticker</th>\n",
       "      <th>transcript</th>\n",
       "    </tr>\n",
       "  </thead>\n",
       "  <tbody>\n",
       "    <tr>\n",
       "      <th>0</th>\n",
       "      <td>Aug 27, 2020, 9:00 p.m. ET</td>\n",
       "      <td>NASDAQ: BILI</td>\n",
       "      <td>2020-Q2</td>\n",
       "      <td>BILI</td>\n",
       "      <td>Prepared Remarks:\\nOperator\\nGood day, and wel...</td>\n",
       "    </tr>\n",
       "    <tr>\n",
       "      <th>1</th>\n",
       "      <td>Jul 30, 2020, 4:30 p.m. ET</td>\n",
       "      <td>NYSE: GFF</td>\n",
       "      <td>2020-Q3</td>\n",
       "      <td>GFF</td>\n",
       "      <td>Prepared Remarks:\\nOperator\\nThank you for sta...</td>\n",
       "    </tr>\n",
       "    <tr>\n",
       "      <th>2</th>\n",
       "      <td>Oct 23, 2019, 5:00 p.m. ET</td>\n",
       "      <td>NASDAQ: LRCX</td>\n",
       "      <td>2020-Q1</td>\n",
       "      <td>LRCX</td>\n",
       "      <td>Prepared Remarks:\\nOperator\\nGood day and welc...</td>\n",
       "    </tr>\n",
       "    <tr>\n",
       "      <th>3</th>\n",
       "      <td>Nov 6, 2019, 12:00 p.m. ET</td>\n",
       "      <td>NASDAQ: BBSI</td>\n",
       "      <td>2019-Q3</td>\n",
       "      <td>BBSI</td>\n",
       "      <td>Prepared Remarks:\\nOperator\\nGood day, everyon...</td>\n",
       "    </tr>\n",
       "    <tr>\n",
       "      <th>4</th>\n",
       "      <td>Aug 7, 2019, 8:30 a.m. ET</td>\n",
       "      <td>NASDAQ: CSTE</td>\n",
       "      <td>2019-Q2</td>\n",
       "      <td>CSTE</td>\n",
       "      <td>Prepared Remarks:\\nOperator\\nGreetings and wel...</td>\n",
       "    </tr>\n",
       "  </tbody>\n",
       "</table>\n",
       "</div>"
      ],
      "text/plain": [
       "                         date      exchange        q ticker  \\\n",
       "0  Aug 27, 2020, 9:00 p.m. ET  NASDAQ: BILI  2020-Q2   BILI   \n",
       "1  Jul 30, 2020, 4:30 p.m. ET     NYSE: GFF  2020-Q3    GFF   \n",
       "2  Oct 23, 2019, 5:00 p.m. ET  NASDAQ: LRCX  2020-Q1   LRCX   \n",
       "3  Nov 6, 2019, 12:00 p.m. ET  NASDAQ: BBSI  2019-Q3   BBSI   \n",
       "4   Aug 7, 2019, 8:30 a.m. ET  NASDAQ: CSTE  2019-Q2   CSTE   \n",
       "\n",
       "                                          transcript  \n",
       "0  Prepared Remarks:\\nOperator\\nGood day, and wel...  \n",
       "1  Prepared Remarks:\\nOperator\\nThank you for sta...  \n",
       "2  Prepared Remarks:\\nOperator\\nGood day and welc...  \n",
       "3  Prepared Remarks:\\nOperator\\nGood day, everyon...  \n",
       "4  Prepared Remarks:\\nOperator\\nGreetings and wel...  "
      ]
     },
     "execution_count": 52,
     "metadata": {},
     "output_type": "execute_result"
    }
   ],
   "source": [
    "df.head()"
   ]
  },
  {
   "cell_type": "code",
   "execution_count": 53,
   "metadata": {},
   "outputs": [
    {
     "name": "stdout",
     "output_type": "stream",
     "text": [
      "<class 'pandas.core.frame.DataFrame'>\n",
      "RangeIndex: 1000 entries, 0 to 999\n",
      "Data columns (total 5 columns):\n",
      " #   Column      Non-Null Count  Dtype \n",
      "---  ------      --------------  ----- \n",
      " 0   date        1000 non-null   object\n",
      " 1   exchange    1000 non-null   object\n",
      " 2   q           1000 non-null   object\n",
      " 3   ticker      1000 non-null   object\n",
      " 4   transcript  1000 non-null   object\n",
      "dtypes: object(5)\n",
      "memory usage: 39.2+ KB\n"
     ]
    }
   ],
   "source": [
    "df.info()"
   ]
  },
  {
   "cell_type": "code",
   "execution_count": 54,
   "metadata": {},
   "outputs": [
    {
     "data": {
      "text/html": [
       "<div>\n",
       "<style scoped>\n",
       "    .dataframe tbody tr th:only-of-type {\n",
       "        vertical-align: middle;\n",
       "    }\n",
       "\n",
       "    .dataframe tbody tr th {\n",
       "        vertical-align: top;\n",
       "    }\n",
       "\n",
       "    .dataframe thead th {\n",
       "        text-align: right;\n",
       "    }\n",
       "</style>\n",
       "<table border=\"1\" class=\"dataframe\">\n",
       "  <thead>\n",
       "    <tr style=\"text-align: right;\">\n",
       "      <th></th>\n",
       "      <th>date</th>\n",
       "      <th>exchange</th>\n",
       "      <th>q</th>\n",
       "      <th>ticker</th>\n",
       "      <th>transcript</th>\n",
       "    </tr>\n",
       "  </thead>\n",
       "  <tbody>\n",
       "    <tr>\n",
       "      <th>count</th>\n",
       "      <td>1000</td>\n",
       "      <td>1000</td>\n",
       "      <td>1000</td>\n",
       "      <td>1000</td>\n",
       "      <td>1000</td>\n",
       "    </tr>\n",
       "    <tr>\n",
       "      <th>unique</th>\n",
       "      <td>783</td>\n",
       "      <td>703</td>\n",
       "      <td>22</td>\n",
       "      <td>703</td>\n",
       "      <td>962</td>\n",
       "    </tr>\n",
       "    <tr>\n",
       "      <th>top</th>\n",
       "      <td>May 27, 2020, 9:00 p.m. ET</td>\n",
       "      <td>NASDAQ: TSLA</td>\n",
       "      <td>2020-Q4</td>\n",
       "      <td>TSLA</td>\n",
       "      <td>Prepared Remarks:\\nOperator\\nGood morning, and...</td>\n",
       "    </tr>\n",
       "    <tr>\n",
       "      <th>freq</th>\n",
       "      <td>7</td>\n",
       "      <td>8</td>\n",
       "      <td>210</td>\n",
       "      <td>8</td>\n",
       "      <td>7</td>\n",
       "    </tr>\n",
       "  </tbody>\n",
       "</table>\n",
       "</div>"
      ],
      "text/plain": [
       "                              date      exchange        q ticker  \\\n",
       "count                         1000          1000     1000   1000   \n",
       "unique                         783           703       22    703   \n",
       "top     May 27, 2020, 9:00 p.m. ET  NASDAQ: TSLA  2020-Q4   TSLA   \n",
       "freq                             7             8      210      8   \n",
       "\n",
       "                                               transcript  \n",
       "count                                                1000  \n",
       "unique                                                962  \n",
       "top     Prepared Remarks:\\nOperator\\nGood morning, and...  \n",
       "freq                                                    7  "
      ]
     },
     "execution_count": 54,
     "metadata": {},
     "output_type": "execute_result"
    }
   ],
   "source": [
    "df.describe()"
   ]
  },
  {
   "cell_type": "code",
   "execution_count": 55,
   "metadata": {},
   "outputs": [
    {
     "data": {
      "text/html": [
       "<div>\n",
       "<style scoped>\n",
       "    .dataframe tbody tr th:only-of-type {\n",
       "        vertical-align: middle;\n",
       "    }\n",
       "\n",
       "    .dataframe tbody tr th {\n",
       "        vertical-align: top;\n",
       "    }\n",
       "\n",
       "    .dataframe thead th {\n",
       "        text-align: right;\n",
       "    }\n",
       "</style>\n",
       "<table border=\"1\" class=\"dataframe\">\n",
       "  <thead>\n",
       "    <tr style=\"text-align: right;\">\n",
       "      <th></th>\n",
       "      <th>q</th>\n",
       "      <th>ticker</th>\n",
       "      <th>transcript</th>\n",
       "    </tr>\n",
       "  </thead>\n",
       "  <tbody>\n",
       "    <tr>\n",
       "      <th>0</th>\n",
       "      <td>2020-Q2</td>\n",
       "      <td>BILI</td>\n",
       "      <td>Prepared Remarks:\\nOperator\\nGood day, and wel...</td>\n",
       "    </tr>\n",
       "    <tr>\n",
       "      <th>1</th>\n",
       "      <td>2020-Q3</td>\n",
       "      <td>GFF</td>\n",
       "      <td>Prepared Remarks:\\nOperator\\nThank you for sta...</td>\n",
       "    </tr>\n",
       "    <tr>\n",
       "      <th>2</th>\n",
       "      <td>2020-Q1</td>\n",
       "      <td>LRCX</td>\n",
       "      <td>Prepared Remarks:\\nOperator\\nGood day and welc...</td>\n",
       "    </tr>\n",
       "    <tr>\n",
       "      <th>3</th>\n",
       "      <td>2019-Q3</td>\n",
       "      <td>BBSI</td>\n",
       "      <td>Prepared Remarks:\\nOperator\\nGood day, everyon...</td>\n",
       "    </tr>\n",
       "    <tr>\n",
       "      <th>4</th>\n",
       "      <td>2019-Q2</td>\n",
       "      <td>CSTE</td>\n",
       "      <td>Prepared Remarks:\\nOperator\\nGreetings and wel...</td>\n",
       "    </tr>\n",
       "  </tbody>\n",
       "</table>\n",
       "</div>"
      ],
      "text/plain": [
       "         q ticker                                         transcript\n",
       "0  2020-Q2   BILI  Prepared Remarks:\\nOperator\\nGood day, and wel...\n",
       "1  2020-Q3    GFF  Prepared Remarks:\\nOperator\\nThank you for sta...\n",
       "2  2020-Q1   LRCX  Prepared Remarks:\\nOperator\\nGood day and welc...\n",
       "3  2019-Q3   BBSI  Prepared Remarks:\\nOperator\\nGood day, everyon...\n",
       "4  2019-Q2   CSTE  Prepared Remarks:\\nOperator\\nGreetings and wel..."
      ]
     },
     "execution_count": 55,
     "metadata": {},
     "output_type": "execute_result"
    }
   ],
   "source": [
    "# Remove data and exchange columns as they are not needed\n",
    "df = df[['q', 'ticker', 'transcript']]\n",
    "df.head()"
   ]
  },
  {
   "cell_type": "markdown",
   "metadata": {},
   "source": [
    "## Utility functions"
   ]
  },
  {
   "cell_type": "code",
   "execution_count": 56,
   "metadata": {},
   "outputs": [],
   "source": [
    "def chat(system_prompt, user_prompt = '', model = 'gpt-4', temperature = 0, **kwargs):\n",
    "    ''' This replies the user based on a system prompt and user prompt to call OpenAI Chat Completions API '''\n",
    "    client = OpenAI()\n",
    "    response = client.chat.completions.create(\n",
    "        model=model,\n",
    "        temperature = temperature,\n",
    "        messages=[\n",
    "            {\"role\": \"system\", \"content\": system_prompt},\n",
    "            {\"role\": \"user\", \"content\": user_prompt}\n",
    "        ],\n",
    "        **kwargs\n",
    "    )\n",
    "    res = response.choices[0].message.content\n",
    "    return res"
   ]
  },
  {
   "cell_type": "code",
   "execution_count": 57,
   "metadata": {},
   "outputs": [],
   "source": [
    "def plot_graph(kg):\n",
    "    ''' Plots graph based on knowledge graph '''\n",
    "    # Create graph\n",
    "    G = nx.DiGraph()\n",
    "    G.add_edges_from((source, target, {'relation': relation}) for source, relation, target in kg)\n",
    "\n",
    "    # Plot the graph\n",
    "    plt.figure(figsize=(10,6), dpi=300)\n",
    "    pos = nx.spring_layout(G, k=3, seed=0)\n",
    "\n",
    "    nx.draw_networkx_nodes(G, pos, node_size=1500)\n",
    "    nx.draw_networkx_edges(G, pos, edge_color='gray')\n",
    "    nx.draw_networkx_labels(G, pos, font_size=12)\n",
    "    edge_labels = nx.get_edge_attributes(G, 'relation')\n",
    "    nx.draw_networkx_edge_labels(G, pos, edge_labels=edge_labels, font_size=10)\n",
    "\n",
    "    # Display the plot\n",
    "    plt.axis('off')\n",
    "    plt.show()"
   ]
  },
  {
   "cell_type": "code",
   "execution_count": 58,
   "metadata": {},
   "outputs": [],
   "source": [
    "# Function to summarize text\n",
    "def summarize_text(text):\n",
    "    '''Summarize long text to a shorter format'''\n",
    "    completion = openai.chat.completions.create(\n",
    "        model=\"gpt-3.5-turbo\",\n",
    "        messages=[{\"role\": \"user\", \"content\": f\"Summarize the following text: {text}\"}],\n",
    "        max_tokens=500,\n",
    "        temperature=0\n",
    "    )\n",
    "    return completion.choices[0].message.content"
   ]
  },
  {
   "cell_type": "code",
   "execution_count": 59,
   "metadata": {},
   "outputs": [],
   "source": [
    "import json\n",
    "from string import Template\n",
    "\n",
    "# Function to extract nodes and edges from summarized text\n",
    "def extract_nodes_edges(transcript_summary, schema):\n",
    "    '''Extract nodes and edges from summarized text using schema'''\n",
    "    completion = openai.chat.completions.create(\n",
    "        model=\"gpt-4\",\n",
    "        messages=[\n",
    "            {\"role\": \"system\", \"content\": \"Extract nodes and edges for a knowledge graph.\"},\n",
    "            {\"role\": \"user\", \"content\": f\"Extract entities and relationships using the following schema: {json.dumps(schema)}. Here's the text: {transcript_summary}\"}\n",
    "        ],\n",
    "        max_tokens=1500,\n",
    "        temperature=0\n",
    "    )\n",
    "    return completion.choices[0].message.content"
   ]
  },
  {
   "cell_type": "code",
   "execution_count": 60,
   "metadata": {},
   "outputs": [],
   "source": [
    "import pandas as pd\n",
    "\n",
    "# Summarize the transcripts\n",
    "summary = summarize_text(df['transcript'][0])\n",
    "\n",
    "# Extract nodes and edges based on the schema\n",
    "schema = {\n",
    "  \"nodes\": {\n",
    "    \"Company\": {\"attributes\": [\"name\", \"ticker\", \"industry\", \"exchange\"]},\n",
    "    \"Person\": {\"attributes\": [\"name\", \"role\", \"company\"]},\n",
    "    \"Financial Metric\": {\"attributes\": [\"name\", \"value\", \"date\"]},\n",
    "    \"Product/Service\": {\"attributes\": [\"name\", \"type\", \"company\"]},\n",
    "    \"Event\": {\"attributes\": [\"name\", \"date\", \"type\"]}\n",
    "  },\n",
    "  \"edges\": {\n",
    "    \"Held\": {\"format\": \"head|relationship|tail\", \"connects\": [\"Company\", \"Event\"]},\n",
    "    \"Managed By\": {\"format\": \"head|relationship|tail\", \"connects\": [\"Company\", \"Person\"]},\n",
    "    \"Reports\": {\"format\": \"head|relationship|tail\", \"connects\": [\"Event\", \"Financial Metric\"]},\n",
    "    \"Mentions\": {\"format\": \"head|relationship|tail\", \"connects\": [\"Event\", \"Person\", \"Product/Service\", \"Company\"]},\n",
    "    \"Partnership\": {\"format\": \"head|relationship|tail\", \"connects\": [\"Company\", \"Company\"]},\n",
    "    \"Launches\": {\"format\": \"head|relationship|tail\", \"connects\": [\"Company\", \"Product/Service\"]},\n",
    "    \"Discusses\": {\"format\": \"head|relationship|tail\", \"connects\": [\"Event\", \"Topic\", \"Product/Service\"]}\n",
    "  }\n",
    "}\n",
    "\n",
    "nodes_and_edges = extract_nodes_edges(summary, schema)"
   ]
  },
  {
   "cell_type": "code",
   "execution_count": 61,
   "metadata": {},
   "outputs": [
    {
     "data": {
      "text/plain": [
       "'Nodes:\\n1. Company: {\"name\": \"Bilibili\", \"ticker\": null, \"industry\": null, \"exchange\": null}\\n2. Event: {\"name\": \"Bilibili 2020 Second Quarter Earnings Conference Call\", \"date\": null, \"type\": \"Earnings Conference Call\"}\\n3. Product/Service: {\"name\": \"live broadcasting business\", \"type\": \"content ecosystem\", \"company\": \"Bilibili\"}\\n4. Product/Service: {\"name\": \"game business\", \"type\": null, \"company\": \"Bilibili\"}\\n5. Product/Service: {\"name\": \"Princess Connect!\", \"type\": \"game\", \"company\": \"Bilibili\"}\\n6. Financial Metric: {\"name\": \"revenue growth\", \"value\": \"strong\", \"date\": \"2020 Second Quarter\"}\\n7. Financial Metric: {\"name\": \"gross margins\", \"value\": \"improved\", \"date\": \"2020 Second Quarter\"}\\n\\nEdges:\\n1. \"Bilibili 2020 Second Quarter Earnings Conference Call\" | Discusses | \"Bilibili\"\\n2. \"Bilibili 2020 Second Quarter Earnings Conference Call\" | Discusses | \"live broadcasting business\"\\n3. \"Bilibili 2020 Second Quarter Earnings Conference Call\" | Discusses | \"game business\"\\n4. \"Bilibili 2020 Second Quarter Earnings Conference Call\" | Discusses | \"Princess Connect!\"\\n5. \"Bilibili 2020 Second Quarter Earnings Conference Call\" | Reports | \"revenue growth\"\\n6. \"Bilibili 2020 Second Quarter Earnings Conference Call\" | Reports | \"gross margins\"\\n7. \"Bilibili\" | Launches | \"live broadcasting business\"\\n8. \"Bilibili\" | Launches | \"game business\"\\n9. \"Bilibili\" | Launches | \"Princess Connect!\"'"
      ]
     },
     "execution_count": 61,
     "metadata": {},
     "output_type": "execute_result"
    }
   ],
   "source": [
    "nodes_and_edges"
   ]
  }
 ],
 "metadata": {
  "kernelspec": {
   "display_name": "zettel-env",
   "language": "python",
   "name": "python3"
  },
  "language_info": {
   "codemirror_mode": {
    "name": "ipython",
    "version": 3
   },
   "file_extension": ".py",
   "mimetype": "text/x-python",
   "name": "python",
   "nbconvert_exporter": "python",
   "pygments_lexer": "ipython3",
   "version": "3.12.1"
  }
 },
 "nbformat": 4,
 "nbformat_minor": 2
}
