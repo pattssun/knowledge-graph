{
 "cells": [
  {
   "cell_type": "markdown",
   "metadata": {},
   "source": [
    "# Bridging the Gaps in LLM Interpretability of Unstructured Financial Data with Knowledge Graphs\n",
    "- Use case: answer questions about companies' financial performance based on the transcripts of their earnings calls.\n",
    "- Uses StrictJSON to parse the Knowledge Graph: https://github.com/tanchongmin/strictjson"
   ]
  },
  {
   "cell_type": "markdown",
   "metadata": {},
   "source": [
    "## Import packages"
   ]
  },
  {
   "cell_type": "code",
   "execution_count": 9,
   "metadata": {},
   "outputs": [
    {
     "name": "stdout",
     "output_type": "stream",
     "text": [
      "Requirement already satisfied: strictjson in /Users/pattssun/opt/anaconda3/envs/zettel-env/lib/python3.12/site-packages (4.0.0)\n",
      "Collecting pandas\n",
      "  Downloading pandas-2.2.2-cp312-cp312-macosx_10_9_x86_64.whl.metadata (19 kB)\n",
      "Requirement already satisfied: openai==1.3.6 in /Users/pattssun/opt/anaconda3/envs/zettel-env/lib/python3.12/site-packages (from strictjson) (1.3.6)\n",
      "Requirement already satisfied: anyio<4,>=3.5.0 in /Users/pattssun/opt/anaconda3/envs/zettel-env/lib/python3.12/site-packages (from openai==1.3.6->strictjson) (3.7.1)\n",
      "Requirement already satisfied: distro<2,>=1.7.0 in /Users/pattssun/opt/anaconda3/envs/zettel-env/lib/python3.12/site-packages (from openai==1.3.6->strictjson) (1.9.0)\n",
      "Requirement already satisfied: httpx<1,>=0.23.0 in /Users/pattssun/opt/anaconda3/envs/zettel-env/lib/python3.12/site-packages (from openai==1.3.6->strictjson) (0.25.2)\n",
      "Requirement already satisfied: pydantic<3,>=1.9.0 in /Users/pattssun/opt/anaconda3/envs/zettel-env/lib/python3.12/site-packages (from openai==1.3.6->strictjson) (2.7.0)\n",
      "Requirement already satisfied: sniffio in /Users/pattssun/opt/anaconda3/envs/zettel-env/lib/python3.12/site-packages (from openai==1.3.6->strictjson) (1.3.1)\n",
      "Requirement already satisfied: tqdm>4 in /Users/pattssun/opt/anaconda3/envs/zettel-env/lib/python3.12/site-packages (from openai==1.3.6->strictjson) (4.66.2)\n",
      "Requirement already satisfied: typing-extensions<5,>=4.5 in /Users/pattssun/opt/anaconda3/envs/zettel-env/lib/python3.12/site-packages (from openai==1.3.6->strictjson) (4.11.0)\n",
      "Requirement already satisfied: numpy>=1.26.0 in /Users/pattssun/opt/anaconda3/envs/zettel-env/lib/python3.12/site-packages (from pandas) (1.26.4)\n",
      "Requirement already satisfied: python-dateutil>=2.8.2 in /Users/pattssun/opt/anaconda3/envs/zettel-env/lib/python3.12/site-packages (from pandas) (2.9.0)\n",
      "Collecting pytz>=2020.1 (from pandas)\n",
      "  Downloading pytz-2024.1-py2.py3-none-any.whl.metadata (22 kB)\n",
      "Collecting tzdata>=2022.7 (from pandas)\n",
      "  Downloading tzdata-2024.1-py2.py3-none-any.whl.metadata (1.4 kB)\n",
      "Requirement already satisfied: six>=1.5 in /Users/pattssun/opt/anaconda3/envs/zettel-env/lib/python3.12/site-packages (from python-dateutil>=2.8.2->pandas) (1.16.0)\n",
      "Requirement already satisfied: idna>=2.8 in /Users/pattssun/opt/anaconda3/envs/zettel-env/lib/python3.12/site-packages (from anyio<4,>=3.5.0->openai==1.3.6->strictjson) (3.7)\n",
      "Requirement already satisfied: certifi in /Users/pattssun/opt/anaconda3/envs/zettel-env/lib/python3.12/site-packages (from httpx<1,>=0.23.0->openai==1.3.6->strictjson) (2024.2.2)\n",
      "Requirement already satisfied: httpcore==1.* in /Users/pattssun/opt/anaconda3/envs/zettel-env/lib/python3.12/site-packages (from httpx<1,>=0.23.0->openai==1.3.6->strictjson) (1.0.5)\n",
      "Requirement already satisfied: h11<0.15,>=0.13 in /Users/pattssun/opt/anaconda3/envs/zettel-env/lib/python3.12/site-packages (from httpcore==1.*->httpx<1,>=0.23.0->openai==1.3.6->strictjson) (0.14.0)\n",
      "Requirement already satisfied: annotated-types>=0.4.0 in /Users/pattssun/opt/anaconda3/envs/zettel-env/lib/python3.12/site-packages (from pydantic<3,>=1.9.0->openai==1.3.6->strictjson) (0.6.0)\n",
      "Requirement already satisfied: pydantic-core==2.18.1 in /Users/pattssun/opt/anaconda3/envs/zettel-env/lib/python3.12/site-packages (from pydantic<3,>=1.9.0->openai==1.3.6->strictjson) (2.18.1)\n",
      "Downloading pandas-2.2.2-cp312-cp312-macosx_10_9_x86_64.whl (12.5 MB)\n",
      "\u001b[2K   \u001b[90m━━━━━━━━━━━━━━━━━━━━━━━━━━━━━━━━━━━━━━━━\u001b[0m \u001b[32m12.5/12.5 MB\u001b[0m \u001b[31m5.3 MB/s\u001b[0m eta \u001b[36m0:00:00\u001b[0m00:01\u001b[0m00:01\u001b[0m\n",
      "\u001b[?25hDownloading pytz-2024.1-py2.py3-none-any.whl (505 kB)\n",
      "\u001b[2K   \u001b[90m━━━━━━━━━━━━━━━━━━━━━━━━━━━━━━━━━━━━━━━━\u001b[0m \u001b[32m505.5/505.5 kB\u001b[0m \u001b[31m5.1 MB/s\u001b[0m eta \u001b[36m0:00:00\u001b[0m00:01\u001b[0m00:01\u001b[0m\n",
      "\u001b[?25hDownloading tzdata-2024.1-py2.py3-none-any.whl (345 kB)\n",
      "\u001b[2K   \u001b[90m━━━━━━━━━━━━━━━━━━━━━━━━━━━━━━━━━━━━━━━━\u001b[0m \u001b[32m345.4/345.4 kB\u001b[0m \u001b[31m4.9 MB/s\u001b[0m eta \u001b[36m0:00:00\u001b[0ma \u001b[36m0:00:01\u001b[0m\n",
      "\u001b[?25hInstalling collected packages: pytz, tzdata, pandas\n",
      "Successfully installed pandas-2.2.2 pytz-2024.1 tzdata-2024.1\n"
     ]
    }
   ],
   "source": [
    "!pip install strictjson pandas"
   ]
  },
  {
   "cell_type": "code",
   "execution_count": 10,
   "metadata": {},
   "outputs": [],
   "source": [
    "from strictjson import *\n",
    "import os\n",
    "import openai\n",
    "from openai import OpenAI\n",
    "import networkx as nx\n",
    "import matplotlib.pyplot as plt\n",
    "from dotenv import load_dotenv\n",
    "import json\n",
    "import pandas as pd\n",
    "import numpy as np"
   ]
  },
  {
   "cell_type": "code",
   "execution_count": 11,
   "metadata": {},
   "outputs": [],
   "source": [
    "load_dotenv()\n",
    "api_key = os.getenv(\"OPENAI_API_KEY\")\n",
    "os.environ[\"OPENAI_API_KEY\"] = api_key"
   ]
  },
  {
   "cell_type": "markdown",
   "metadata": {},
   "source": [
    "## Load dataset"
   ]
  },
  {
   "cell_type": "code",
   "execution_count": 12,
   "metadata": {},
   "outputs": [],
   "source": [
    "# Function to parse JSONL file\n",
    "def parse_jsonl(file_path):\n",
    "    data = []\n",
    "    with open(file_path, 'r') as file:\n",
    "        for line in file:\n",
    "            data.append(json.loads(line))\n",
    "    return data\n",
    "\n",
    "file_path = 'data/earnings-transcripts.jsonl'\n",
    "earnings_data = parse_jsonl(file_path)\n"
   ]
  },
  {
   "cell_type": "code",
   "execution_count": 13,
   "metadata": {},
   "outputs": [],
   "source": [
    "df = pd.DataFrame(earnings_data)"
   ]
  },
  {
   "cell_type": "code",
   "execution_count": 18,
   "metadata": {},
   "outputs": [
    {
     "data": {
      "text/html": [
       "<div>\n",
       "<style scoped>\n",
       "    .dataframe tbody tr th:only-of-type {\n",
       "        vertical-align: middle;\n",
       "    }\n",
       "\n",
       "    .dataframe tbody tr th {\n",
       "        vertical-align: top;\n",
       "    }\n",
       "\n",
       "    .dataframe thead th {\n",
       "        text-align: right;\n",
       "    }\n",
       "</style>\n",
       "<table border=\"1\" class=\"dataframe\">\n",
       "  <thead>\n",
       "    <tr style=\"text-align: right;\">\n",
       "      <th></th>\n",
       "      <th>date</th>\n",
       "      <th>exchange</th>\n",
       "      <th>q</th>\n",
       "      <th>ticker</th>\n",
       "      <th>transcript</th>\n",
       "    </tr>\n",
       "  </thead>\n",
       "  <tbody>\n",
       "    <tr>\n",
       "      <th>0</th>\n",
       "      <td>Aug 27, 2020, 9:00 p.m. ET</td>\n",
       "      <td>NASDAQ: BILI</td>\n",
       "      <td>2020-Q2</td>\n",
       "      <td>BILI</td>\n",
       "      <td>Prepared Remarks:\\nOperator\\nGood day, and wel...</td>\n",
       "    </tr>\n",
       "    <tr>\n",
       "      <th>1</th>\n",
       "      <td>Jul 30, 2020, 4:30 p.m. ET</td>\n",
       "      <td>NYSE: GFF</td>\n",
       "      <td>2020-Q3</td>\n",
       "      <td>GFF</td>\n",
       "      <td>Prepared Remarks:\\nOperator\\nThank you for sta...</td>\n",
       "    </tr>\n",
       "    <tr>\n",
       "      <th>2</th>\n",
       "      <td>Oct 23, 2019, 5:00 p.m. ET</td>\n",
       "      <td>NASDAQ: LRCX</td>\n",
       "      <td>2020-Q1</td>\n",
       "      <td>LRCX</td>\n",
       "      <td>Prepared Remarks:\\nOperator\\nGood day and welc...</td>\n",
       "    </tr>\n",
       "    <tr>\n",
       "      <th>3</th>\n",
       "      <td>Nov 6, 2019, 12:00 p.m. ET</td>\n",
       "      <td>NASDAQ: BBSI</td>\n",
       "      <td>2019-Q3</td>\n",
       "      <td>BBSI</td>\n",
       "      <td>Prepared Remarks:\\nOperator\\nGood day, everyon...</td>\n",
       "    </tr>\n",
       "    <tr>\n",
       "      <th>4</th>\n",
       "      <td>Aug 7, 2019, 8:30 a.m. ET</td>\n",
       "      <td>NASDAQ: CSTE</td>\n",
       "      <td>2019-Q2</td>\n",
       "      <td>CSTE</td>\n",
       "      <td>Prepared Remarks:\\nOperator\\nGreetings and wel...</td>\n",
       "    </tr>\n",
       "  </tbody>\n",
       "</table>\n",
       "</div>"
      ],
      "text/plain": [
       "                         date      exchange        q ticker  \\\n",
       "0  Aug 27, 2020, 9:00 p.m. ET  NASDAQ: BILI  2020-Q2   BILI   \n",
       "1  Jul 30, 2020, 4:30 p.m. ET     NYSE: GFF  2020-Q3    GFF   \n",
       "2  Oct 23, 2019, 5:00 p.m. ET  NASDAQ: LRCX  2020-Q1   LRCX   \n",
       "3  Nov 6, 2019, 12:00 p.m. ET  NASDAQ: BBSI  2019-Q3   BBSI   \n",
       "4   Aug 7, 2019, 8:30 a.m. ET  NASDAQ: CSTE  2019-Q2   CSTE   \n",
       "\n",
       "                                          transcript  \n",
       "0  Prepared Remarks:\\nOperator\\nGood day, and wel...  \n",
       "1  Prepared Remarks:\\nOperator\\nThank you for sta...  \n",
       "2  Prepared Remarks:\\nOperator\\nGood day and welc...  \n",
       "3  Prepared Remarks:\\nOperator\\nGood day, everyon...  \n",
       "4  Prepared Remarks:\\nOperator\\nGreetings and wel...  "
      ]
     },
     "execution_count": 18,
     "metadata": {},
     "output_type": "execute_result"
    }
   ],
   "source": [
    "df.head()"
   ]
  },
  {
   "cell_type": "code",
   "execution_count": 22,
   "metadata": {},
   "outputs": [
    {
     "name": "stdout",
     "output_type": "stream",
     "text": [
      "<class 'pandas.core.frame.DataFrame'>\n",
      "RangeIndex: 1000 entries, 0 to 999\n",
      "Data columns (total 3 columns):\n",
      " #   Column      Non-Null Count  Dtype \n",
      "---  ------      --------------  ----- \n",
      " 0   q           1000 non-null   object\n",
      " 1   ticker      1000 non-null   object\n",
      " 2   transcript  1000 non-null   object\n",
      "dtypes: object(3)\n",
      "memory usage: 23.6+ KB\n"
     ]
    }
   ],
   "source": [
    "df.info()"
   ]
  },
  {
   "cell_type": "code",
   "execution_count": 17,
   "metadata": {},
   "outputs": [
    {
     "data": {
      "text/html": [
       "<div>\n",
       "<style scoped>\n",
       "    .dataframe tbody tr th:only-of-type {\n",
       "        vertical-align: middle;\n",
       "    }\n",
       "\n",
       "    .dataframe tbody tr th {\n",
       "        vertical-align: top;\n",
       "    }\n",
       "\n",
       "    .dataframe thead th {\n",
       "        text-align: right;\n",
       "    }\n",
       "</style>\n",
       "<table border=\"1\" class=\"dataframe\">\n",
       "  <thead>\n",
       "    <tr style=\"text-align: right;\">\n",
       "      <th></th>\n",
       "      <th>date</th>\n",
       "      <th>exchange</th>\n",
       "      <th>q</th>\n",
       "      <th>ticker</th>\n",
       "      <th>transcript</th>\n",
       "    </tr>\n",
       "  </thead>\n",
       "  <tbody>\n",
       "    <tr>\n",
       "      <th>count</th>\n",
       "      <td>1000</td>\n",
       "      <td>1000</td>\n",
       "      <td>1000</td>\n",
       "      <td>1000</td>\n",
       "      <td>1000</td>\n",
       "    </tr>\n",
       "    <tr>\n",
       "      <th>unique</th>\n",
       "      <td>783</td>\n",
       "      <td>703</td>\n",
       "      <td>22</td>\n",
       "      <td>703</td>\n",
       "      <td>962</td>\n",
       "    </tr>\n",
       "    <tr>\n",
       "      <th>top</th>\n",
       "      <td>May 27, 2020, 9:00 p.m. ET</td>\n",
       "      <td>NASDAQ: TSLA</td>\n",
       "      <td>2020-Q4</td>\n",
       "      <td>TSLA</td>\n",
       "      <td>Prepared Remarks:\\nOperator\\nGood morning, and...</td>\n",
       "    </tr>\n",
       "    <tr>\n",
       "      <th>freq</th>\n",
       "      <td>7</td>\n",
       "      <td>8</td>\n",
       "      <td>210</td>\n",
       "      <td>8</td>\n",
       "      <td>7</td>\n",
       "    </tr>\n",
       "  </tbody>\n",
       "</table>\n",
       "</div>"
      ],
      "text/plain": [
       "                              date      exchange        q ticker  \\\n",
       "count                         1000          1000     1000   1000   \n",
       "unique                         783           703       22    703   \n",
       "top     May 27, 2020, 9:00 p.m. ET  NASDAQ: TSLA  2020-Q4   TSLA   \n",
       "freq                             7             8      210      8   \n",
       "\n",
       "                                               transcript  \n",
       "count                                                1000  \n",
       "unique                                                962  \n",
       "top     Prepared Remarks:\\nOperator\\nGood morning, and...  \n",
       "freq                                                    7  "
      ]
     },
     "execution_count": 17,
     "metadata": {},
     "output_type": "execute_result"
    }
   ],
   "source": [
    "df.describe()"
   ]
  },
  {
   "cell_type": "code",
   "execution_count": 23,
   "metadata": {},
   "outputs": [
    {
     "data": {
      "text/html": [
       "<div>\n",
       "<style scoped>\n",
       "    .dataframe tbody tr th:only-of-type {\n",
       "        vertical-align: middle;\n",
       "    }\n",
       "\n",
       "    .dataframe tbody tr th {\n",
       "        vertical-align: top;\n",
       "    }\n",
       "\n",
       "    .dataframe thead th {\n",
       "        text-align: right;\n",
       "    }\n",
       "</style>\n",
       "<table border=\"1\" class=\"dataframe\">\n",
       "  <thead>\n",
       "    <tr style=\"text-align: right;\">\n",
       "      <th></th>\n",
       "      <th>q</th>\n",
       "      <th>ticker</th>\n",
       "      <th>transcript</th>\n",
       "    </tr>\n",
       "  </thead>\n",
       "  <tbody>\n",
       "    <tr>\n",
       "      <th>0</th>\n",
       "      <td>2020-Q2</td>\n",
       "      <td>BILI</td>\n",
       "      <td>Prepared Remarks:\\nOperator\\nGood day, and wel...</td>\n",
       "    </tr>\n",
       "    <tr>\n",
       "      <th>1</th>\n",
       "      <td>2020-Q3</td>\n",
       "      <td>GFF</td>\n",
       "      <td>Prepared Remarks:\\nOperator\\nThank you for sta...</td>\n",
       "    </tr>\n",
       "    <tr>\n",
       "      <th>2</th>\n",
       "      <td>2020-Q1</td>\n",
       "      <td>LRCX</td>\n",
       "      <td>Prepared Remarks:\\nOperator\\nGood day and welc...</td>\n",
       "    </tr>\n",
       "    <tr>\n",
       "      <th>3</th>\n",
       "      <td>2019-Q3</td>\n",
       "      <td>BBSI</td>\n",
       "      <td>Prepared Remarks:\\nOperator\\nGood day, everyon...</td>\n",
       "    </tr>\n",
       "    <tr>\n",
       "      <th>4</th>\n",
       "      <td>2019-Q2</td>\n",
       "      <td>CSTE</td>\n",
       "      <td>Prepared Remarks:\\nOperator\\nGreetings and wel...</td>\n",
       "    </tr>\n",
       "  </tbody>\n",
       "</table>\n",
       "</div>"
      ],
      "text/plain": [
       "         q ticker                                         transcript\n",
       "0  2020-Q2   BILI  Prepared Remarks:\\nOperator\\nGood day, and wel...\n",
       "1  2020-Q3    GFF  Prepared Remarks:\\nOperator\\nThank you for sta...\n",
       "2  2020-Q1   LRCX  Prepared Remarks:\\nOperator\\nGood day and welc...\n",
       "3  2019-Q3   BBSI  Prepared Remarks:\\nOperator\\nGood day, everyon...\n",
       "4  2019-Q2   CSTE  Prepared Remarks:\\nOperator\\nGreetings and wel..."
      ]
     },
     "execution_count": 23,
     "metadata": {},
     "output_type": "execute_result"
    }
   ],
   "source": [
    "# Remove data and exchange columns as they are not needed\n",
    "df = df[['q', 'ticker', 'transcript']]\n",
    "df.head()"
   ]
  },
  {
   "cell_type": "markdown",
   "metadata": {},
   "source": [
    "## Utility functions"
   ]
  },
  {
   "cell_type": "code",
   "execution_count": 24,
   "metadata": {},
   "outputs": [],
   "source": [
    "def chat(system_prompt, user_prompt = '', model = 'gpt-4', temperature = 0, **kwargs):\n",
    "    ''' This replies the user based on a system prompt and user prompt to call OpenAI Chat Completions API '''\n",
    "    client = OpenAI()\n",
    "    response = client.chat.completions.create(\n",
    "        model=model,\n",
    "        temperature = temperature,\n",
    "        messages=[\n",
    "            {\"role\": \"system\", \"content\": system_prompt},\n",
    "            {\"role\": \"user\", \"content\": user_prompt}\n",
    "        ],\n",
    "        **kwargs\n",
    "    )\n",
    "    res = response.choices[0].message.content\n",
    "    return res"
   ]
  },
  {
   "cell_type": "code",
   "execution_count": 25,
   "metadata": {},
   "outputs": [],
   "source": [
    "def plot_graph(kg):\n",
    "    ''' Plots graph based on knowledge graph '''\n",
    "    # Create graph\n",
    "    G = nx.DiGraph()\n",
    "    G.add_edges_from((source, target, {'relation': relation}) for source, relation, target in kg)\n",
    "\n",
    "    # Plot the graph\n",
    "    plt.figure(figsize=(10,6), dpi=300)\n",
    "    pos = nx.spring_layout(G, k=3, seed=0)\n",
    "\n",
    "    nx.draw_networkx_nodes(G, pos, node_size=1500)\n",
    "    nx.draw_networkx_edges(G, pos, edge_color='gray')\n",
    "    nx.draw_networkx_labels(G, pos, font_size=12)\n",
    "    edge_labels = nx.get_edge_attributes(G, 'relation')\n",
    "    nx.draw_networkx_edge_labels(G, pos, edge_labels=edge_labels, font_size=10)\n",
    "\n",
    "    # Display the plot\n",
    "    plt.axis('off')\n",
    "    plt.show()"
   ]
  }
 ],
 "metadata": {
  "kernelspec": {
   "display_name": "zettel-env",
   "language": "python",
   "name": "python3"
  },
  "language_info": {
   "codemirror_mode": {
    "name": "ipython",
    "version": 3
   },
   "file_extension": ".py",
   "mimetype": "text/x-python",
   "name": "python",
   "nbconvert_exporter": "python",
   "pygments_lexer": "ipython3",
   "version": "3.12.1"
  }
 },
 "nbformat": 4,
 "nbformat_minor": 2
}
